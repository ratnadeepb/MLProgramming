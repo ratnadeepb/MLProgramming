{
 "cells": [
  {
   "cell_type": "markdown",
   "metadata": {},
   "source": [
    "# Linear Regression\n",
    "This has been taken directly from http://connor-johnson.com/2014/02/18/linear-regression-with-python/\n",
    "\n",
    "However, I believe that the current format makes a quick reference for the statistics involved in linear regression."
   ]
  },
  {
   "cell_type": "code",
   "execution_count": 1,
   "metadata": {
    "collapsed": true
   },
   "outputs": [],
   "source": [
    "import numpy as np\n",
    "import pandas as pd\n",
    "from pandas import DataFrame, Series\n",
    "from statsmodels.formula import api as sm\n",
    "from sklearn.linear_model import LinearRegression\n",
    "import scipy as sc\n",
    "import scipy.stats as stats\n",
    "import matplotlib.pyplot as plt\n",
    "import matplotlib\n",
    "%matplotlib inline\n",
    "matplotlib.rcParams['figure.figsize'] = (15, 7)"
   ]
  },
  {
   "cell_type": "markdown",
   "metadata": {},
   "source": [
    "### Data"
   ]
  },
  {
   "cell_type": "code",
   "execution_count": 2,
   "metadata": {
    "collapsed": true
   },
   "outputs": [],
   "source": [
    "data_str = '''Region\tAlcohol\tTobacco\n",
    "North\t6.47\t4.03\n",
    "Yorkshire\t6.13\t3.76\n",
    "Northeast\t6.19\t3.77\n",
    "East Midlands\t4.89\t3.34\n",
    "West Midlands\t5.63\t3.47\n",
    "East Anglia\t4.52\t2.92\n",
    "Southeast\t5.89\t3.20\n",
    "Southwest\t4.79\t2.71\n",
    "Wales\t5.27\t3.53\n",
    "Scotland\t6.08\t4.51\n",
    "Northern Ireland\t4.02\t4.56'''"
   ]
  },
  {
   "cell_type": "code",
   "execution_count": 3,
   "metadata": {
    "collapsed": true
   },
   "outputs": [],
   "source": [
    "d = data_str.splitlines()\n",
    "data = [i.split('\\t') for i in d]"
   ]
  },
  {
   "cell_type": "code",
   "execution_count": 4,
   "metadata": {
    "collapsed": true
   },
   "outputs": [],
   "source": [
    "for i in range(len(data)):\n",
    "    for j in range(len(data[0])):\n",
    "        try:\n",
    "            data[i][j] = float(data[i][j])\n",
    "        except:\n",
    "            pass"
   ]
  },
  {
   "cell_type": "code",
   "execution_count": 5,
   "metadata": {
    "collapsed": true
   },
   "outputs": [],
   "source": [
    "df = DataFrame(data[1:], columns=data[0])"
   ]
  },
  {
   "cell_type": "code",
   "execution_count": 6,
   "metadata": {},
   "outputs": [
    {
     "data": {
      "text/plain": [
       "<matplotlib.collections.PathCollection at 0x7fb000c1e4a8>"
      ]
     },
     "execution_count": 6,
     "metadata": {},
     "output_type": "execute_result"
    },
    {
     "data": {
      "image/png": "[encoded data removed]",
      "text/plain": [
       "<matplotlib.figure.Figure at 0x7fb0035969b0>"
      ]
     },
     "metadata": {},
     "output_type": "display_data"
    }
   ],
   "source": [
    "plt.scatter(df.Tobacco, df.Alcohol, marker='o', edgecolors='b', facecolor='r', alpha=0.5)"
   ]
  },
  {
   "cell_type": "code",
   "execution_count": 7,
   "metadata": {
    "collapsed": true
   },
   "outputs": [],
   "source": [
    "df['Ones'] = np.ones(df.shape[0])"
   ]
  },
  {
   "cell_type": "markdown",
   "metadata": {},
   "source": [
    "### Regression using statsmodels"
   ]
  },
  {
   "cell_type": "code",
   "execution_count": 8,
   "metadata": {
    "collapsed": true
   },
   "outputs": [],
   "source": [
    "# Treating Northern Ireland as an outlier\n",
    "Y = df.Alcohol[:-1]\n",
    "X = df[['Tobacco', 'Ones']][:-1]"
   ]
  },
  {
   "cell_type": "code",
   "execution_count": 9,
   "metadata": {
    "collapsed": true
   },
   "outputs": [],
   "source": [
    "model_one = sm.OLS(Y, X).fit()"
   ]
  },
  {
   "cell_type": "code",
   "execution_count": 10,
   "metadata": {},
   "outputs": [
    {
     "name": "stderr",
     "output_type": "stream",
     "text": [
      "/home/ratnadeepb/app/miniconda3/envs/2bytz/lib/python3.6/site-packages/scipy/stats/stats.py:1334: UserWarning: kurtosistest only valid for n>=20 ... continuing anyway, n=10\n",
      "  \"anyway, n=%i\" % int(n))\n"
     ]
    },
    {
     "data": {
      "text/html": [
       "<table class=\"simpletable\">\n",
       "<caption>OLS Regression Results</caption>\n",
       "<tr>\n",
       "  <th>Dep. Variable:</th>         <td>Alcohol</td>     <th>  R-squared:         </th> <td>   0.615</td>\n",
       "</tr>\n",
       "<tr>\n",
       "  <th>Model:</th>                   <td>OLS</td>       <th>  Adj. R-squared:    </th> <td>   0.567</td>\n",
       "</tr>\n",
       "<tr>\n",
       "  <th>Method:</th>             <td>Least Squares</td>  <th>  F-statistic:       </th> <td>   12.78</td>\n",
       "</tr>\n",
       "<tr>\n",
       "  <th>Date:</th>             <td>Sat, 15 Jul 2017</td> <th>  Prob (F-statistic):</th>  <td>0.00723</td>\n",
       "</tr>\n",
       "<tr>\n",
       "  <th>Time:</th>                 <td>12:22:16</td>     <th>  Log-Likelihood:    </th> <td> -4.9998</td>\n",
       "</tr>\n",
       "<tr>\n",
       "  <th>No. Observations:</th>      <td>    10</td>      <th>  AIC:               </th> <td>   14.00</td>\n",
       "</tr>\n",
       "<tr>\n",
       "  <th>Df Residuals:</th>          <td>     8</td>      <th>  BIC:               </th> <td>   14.60</td>\n",
       "</tr>\n",
       "<tr>\n",
       "  <th>Df Model:</th>              <td>     1</td>      <th>                     </th>     <td> </td>   \n",
       "</tr>\n",
       "<tr>\n",
       "  <th>Covariance Type:</th>      <td>nonrobust</td>    <th>                     </th>     <td> </td>   \n",
       "</tr>\n",
       "</table>\n",
       "<table class=\"simpletable\">\n",
       "<tr>\n",
       "     <td></td>        <th>coef</th>     <th>std err</th>      <th>t</th>      <th>P>|t|</th>  <th>[0.025</th>    <th>0.975]</th>  \n",
       "</tr>\n",
       "<tr>\n",
       "  <th>Tobacco</th> <td>    1.0059</td> <td>    0.281</td> <td>    3.576</td> <td> 0.007</td> <td>    0.357</td> <td>    1.655</td>\n",
       "</tr>\n",
       "<tr>\n",
       "  <th>Ones</th>    <td>    2.0412</td> <td>    1.001</td> <td>    2.038</td> <td> 0.076</td> <td>   -0.268</td> <td>    4.350</td>\n",
       "</tr>\n",
       "</table>\n",
       "<table class=\"simpletable\">\n",
       "<tr>\n",
       "  <th>Omnibus:</th>       <td> 2.542</td> <th>  Durbin-Watson:     </th> <td>   1.975</td>\n",
       "</tr>\n",
       "<tr>\n",
       "  <th>Prob(Omnibus):</th> <td> 0.281</td> <th>  Jarque-Bera (JB):  </th> <td>   0.904</td>\n",
       "</tr>\n",
       "<tr>\n",
       "  <th>Skew:</th>          <td>-0.014</td> <th>  Prob(JB):          </th> <td>   0.636</td>\n",
       "</tr>\n",
       "<tr>\n",
       "  <th>Kurtosis:</th>      <td> 1.527</td> <th>  Cond. No.          </th> <td>    27.2</td>\n",
       "</tr>\n",
       "</table>"
      ],
      "text/plain": [
       "<class 'statsmodels.iolib.summary.Summary'>\n",
       "\"\"\"\n",
       "                            OLS Regression Results                            \n",
       "==============================================================================\n",
       "Dep. Variable:                Alcohol   R-squared:                       0.615\n",
       "Model:                            OLS   Adj. R-squared:                  0.567\n",
       "Method:                 Least Squares   F-statistic:                     12.78\n",
       "Date:                Sat, 15 Jul 2017   Prob (F-statistic):            0.00723\n",
       "Time:                        12:22:16   Log-Likelihood:                -4.9998\n",
       "No. Observations:                  10   AIC:                             14.00\n",
       "Df Residuals:                       8   BIC:                             14.60\n",
       "Df Model:                           1                                         \n",
       "Covariance Type:            nonrobust                                         \n",
       "==============================================================================\n",
       "                 coef    std err          t      P>|t|      [0.025      0.975]\n",
       "------------------------------------------------------------------------------\n",
       "Tobacco        1.0059      0.281      3.576      0.007       0.357       1.655\n",
       "Ones           2.0412      1.001      2.038      0.076      -0.268       4.350\n",
       "==============================================================================\n",
       "Omnibus:                        2.542   Durbin-Watson:                   1.975\n",
       "Prob(Omnibus):                  0.281   Jarque-Bera (JB):                0.904\n",
       "Skew:                          -0.014   Prob(JB):                        0.636\n",
       "Kurtosis:                       1.527   Cond. No.                         27.2\n",
       "==============================================================================\n",
       "\n",
       "Warnings:\n",
       "[1] Standard Errors assume that the covariance matrix of the errors is correctly specified.\n",
       "\"\"\""
      ]
     },
     "execution_count": 10,
     "metadata": {},
     "output_type": "execute_result"
    }
   ],
   "source": [
    "model_one.summary()"
   ]
  },
  {
   "cell_type": "markdown",
   "metadata": {},
   "source": [
    "### F-Statistics\n",
    "The null hypothesis is that all coefficients are zero. Alternate hypothesis is that at leas one is non-zero.\n",
    " \\begin{equation*} F = \\dfrac{\\dfrac{SSM/\\sigma^{2}}{P}}{\\dfrac{SSE/\\sigma^{2}}{N-P-1}} = \\dfrac{MSM}{MSE} \\end{equation*} \n",
    "\n",
    " \\begin{equation*} MSE = \\dfrac{1}{N-P-1} \\displaystyle \\sum_{i=1}^{N} ( y_{i} - \\hat{y_{i}} )^{2} \\end{equation*} \n",
    "\\begin{equation*} MSM = \\dfrac{1}{P} \\displaystyle \\sum_{i=1}^{N} ( \\hat{y_{i}} - \\bar{y} )^{2} \\end{equation*} "
   ]
  },
  {
   "cell_type": "code",
   "execution_count": 11,
   "metadata": {},
   "outputs": [
    {
     "name": "stdout",
     "output_type": "stream",
     "text": [
      "F-statistics: 12.785, p-value: 0.00723\n"
     ]
    }
   ],
   "source": [
    "N = model_one.nobs  # Number of observations\n",
    "P = model_one.df_model  # Model degrees of freedom\n",
    "dfn, dfd = P, (N - P - 1)\n",
    "F = model_one.mse_model / model_one.mse_resid  # F = MSM / MSE\n",
    "p = 1 - stats.f.cdf(F, dfn, dfd)\n",
    "print(\"F-statistics: {:.3f}, p-value: {:.5f}\".format(F, p))"
   ]
  },
  {
   "cell_type": "markdown",
   "metadata": {},
   "source": [
    "### Log-Likelihood\n",
    "\n",
    " \\begin{equation*} \\mathcal{L} = \\displaystyle \\prod_{i=1}^{N} \\biggl(\\dfrac{1}{\\sqrt{2\\pi\\sigma^{2}}}\\biggr) \\exp\\biggl(-\\displaystyle \\sum_{i=1}^{N} \\dfrac{(y_{i}-\\hat{y}_{i})^{2}}{2\\sigma^{2}}\\biggr) \\end{equation*} \n",
    "\n",
    " \\begin{equation*} \\ln(\\mathcal{L}) = \\displaystyle \\sum_{i=1}^{N} \\ln\\biggl(\\dfrac{1}{\\sqrt{2\\pi\\sigma^{2}}}\\biggr) - \\dfrac{1}{2\\sigma^{2}} \\displaystyle \\sum_{i=1}^{N} (y_{i}-\\hat{y}_{i})^{2} \\end{equation*} "
   ]
  },
  {
   "cell_type": "code",
   "execution_count": 12,
   "metadata": {},
   "outputs": [
    {
     "name": "stdout",
     "output_type": "stream",
     "text": [
      "ln(L):  -4.99975869739\n"
     ]
    }
   ],
   "source": [
    "SSR = model_one.ssr  # Sum of Squared Residuals\n",
    "s2 = SSR / N  # Sample Variance\n",
    "L = (1 / np.sqrt(2 * np.pi * s2)) ** N * np.exp(-SSR / (s2 * 2))\n",
    "print(\"ln(L): \", np.log(L))"
   ]
  },
  {
   "cell_type": "markdown",
   "metadata": {},
   "source": [
    "### AIC and BIC\n",
    "\n",
    "Akaike Information Criterion and Bayesian Information Criterion introduce penalty for model complexity, but AIC penalizes less severely.\n",
    "\n",
    "\\begin{equation*} AIC = 2 k - 2\\ln( \\mathcal{L} ) \\end{equation*} \n",
    "\\begin{equation*} BIC = k \\ln(N) - 2\\ln( \\mathcal{L} ) \\end{equation*} \n",
    "  \n",
    "k --> Number of parameters\n",
    "\n",
    "AIC is the comparative loss of information between two models. BIC was proposed using Bayesian arguments. So we would want to select a model with a lower AIC or BIC number."
   ]
  },
  {
   "cell_type": "markdown",
   "metadata": {},
   "source": [
    "### Standard Error\n",
    "\n",
    "\\begin{equation*} C = cov(\\beta) = \\sigma^{2} ( X X^{T} )^{-1}. \\end{equation*} \n",
    "\n",
    "Standard Errors are the square roots of the main diagonal of this matrix."
   ]
  },
  {
   "cell_type": "code",
   "execution_count": 13,
   "metadata": {},
   "outputs": [
    {
     "name": "stderr",
     "output_type": "stream",
     "text": [
      "/home/ratnadeepb/app/miniconda3/envs/2bytz/lib/python3.6/site-packages/ipykernel_launcher.py:3: RuntimeWarning: invalid value encountered in sqrt\n",
      "  This is separate from the ipykernel package so we can avoid doing imports until\n"
     ]
    },
    {
     "data": {
      "text/plain": [
       "matrix([[ 0.28132158,         nan],\n",
       "        [        nan,  1.00136021]])"
      ]
     },
     "execution_count": 13,
     "metadata": {},
     "output_type": "execute_result"
    }
   ],
   "source": [
    "X = np.matrix(X)\n",
    "C = model_one.mse_resid * np.linalg.inv(X.T * X)\n",
    "SE = np.sqrt(C)\n",
    "SE"
   ]
  },
  {
   "cell_type": "markdown",
   "metadata": {},
   "source": [
    "### T-statistics\n",
    "It is used to test the importance of individual predictors. It is true when individual errors are zero mean normal distribution. Otherwise there may be interaction between the predictors and t-statistics should not be used.\n",
    "\n",
    " \\begin{equation*} t_{i} = \\beta_{i} / SE_{i,i} \\end{equation*} "
   ]
  },
  {
   "cell_type": "code",
   "execution_count": 14,
   "metadata": {},
   "outputs": [
    {
     "data": {
      "text/plain": [
       "3.5756084542390614"
      ]
     },
     "execution_count": 14,
     "metadata": {},
     "output_type": "execute_result"
    }
   ],
   "source": [
    "i = 0\n",
    "beta = model_one.params[i]\n",
    "se = SE[i, i]\n",
    "t = beta / se\n",
    "t"
   ]
  },
  {
   "cell_type": "code",
   "execution_count": 15,
   "metadata": {},
   "outputs": [
    {
     "data": {
      "text/plain": [
       "0.0072343583517291421"
      ]
     },
     "execution_count": 15,
     "metadata": {},
     "output_type": "execute_result"
    }
   ],
   "source": [
    "hp = 1 - stats.t(dfd).cdf(t)\n",
    "p_t = hp * 2\n",
    "p_t  # Two-tailed probability"
   ]
  },
  {
   "cell_type": "markdown",
   "metadata": {},
   "source": [
    "### Confidence Intervals\n",
    " \\begin{equation*} CI = [ \\beta_{i} - z \\cdot SE_{i,i}, \\beta_{i,i} + z \\cdot SE_{i,i} ] \\end{equation*} "
   ]
  },
  {
   "cell_type": "code",
   "execution_count": 16,
   "metadata": {},
   "outputs": [
    {
     "data": {
      "text/plain": [
       "[-2.5686338044472228, 4.580425469124739]"
      ]
     },
     "execution_count": 16,
     "metadata": {},
     "output_type": "execute_result"
    }
   ],
   "source": [
    "z = stats.t(dfn).ppf(0.975)\n",
    "limit = z * se\n",
    "CI = [beta - limit, beta + limit]\n",
    "CI"
   ]
  },
  {
   "cell_type": "markdown",
   "metadata": {},
   "source": [
    "### Skewness and Kurtosis\n",
    "Asymmetry and Curvature (peakedness).\n",
    "\n",
    "\\begin{equation*} S = \\dfrac{\\hat{\\mu}_{3}}{\\hat{\\sigma}^{3}} = \\dfrac{ \\frac{1}{N} \\displaystyle \\sum_{i=1}^{N} ( y_{i} - \\hat{y}_{i} )^{3} }{ \\biggl( \\frac{1}{N} \\displaystyle \\sum_{i=1}^{N} ( y_{i} - \\hat{y}_{i} )^{2} \\biggr)^{3/2}} \\end{equation*} \n",
    "\n",
    "\\begin{equation*} K = \\dfrac{\\hat{\\mu}_{4}}{\\hat{\\sigma}^{4}} = \\dfrac{ \\frac{1}{N} \\displaystyle \\sum_{i=1}^{N} ( y_{i} - \\hat{y}_{i} )^{4} }{ \\biggl( \\frac{1}{N} \\displaystyle \\sum_{i=1}^{N} ( y_{i} - \\hat{y}_{i} )^{2} \\biggr)^{2}} \\end{equation*} "
   ]
  },
  {
   "cell_type": "code",
   "execution_count": 17,
   "metadata": {},
   "outputs": [
    {
     "data": {
      "text/plain": [
       "'Skewness: -0.01367812591004447, Kurtosis: 1.5271300905736012'"
      ]
     },
     "execution_count": 17,
     "metadata": {},
     "output_type": "execute_result"
    }
   ],
   "source": [
    "d = Y - model_one.fittedvalues\n",
    "S = np.mean(d**3) / (np.mean(d**2) ** (3/2))\n",
    "K = np.mean(d**4) / (np.mean(d**2) ** 2)\n",
    "\"Skewness: {}, Kurtosis: {}\".format(S, K)"
   ]
  },
  {
   "cell_type": "markdown",
   "metadata": {},
   "source": [
    "### Omnibus Test\n",
    "This test uses skewness and kurtosis to check if a distribution is normal. We can use this to look at the distribution of the residual. If the Omnibus test value is small then residuals are not normally distributed.\n",
    "\n",
    "The following uses the K2 test by D'Agostino, Belanger and a correction by Royston."
   ]
  },
  {
   "cell_type": "code",
   "execution_count": 18,
   "metadata": {},
   "outputs": [
    {
     "data": {
      "text/plain": [
       "2.5418981690649525"
      ]
     },
     "execution_count": 18,
     "metadata": {},
     "output_type": "execute_result"
    }
   ],
   "source": [
    "def Z1(s, n):\n",
    "    Y = s * np.sqrt( ( ( n + 1 )*( n + 3 ) ) / ( 6.0 * ( n - 2.0 ) ) )\n",
    "    b = 3.0 * ( n**2.0 + 27.0*n - 70 )*( n + 1.0 )*( n + 3.0 )\n",
    "    b /= ( n - 2.0 )*( n + 5.0 )*( n + 7.0 )*( n + 9.0 )\n",
    "    W2 = - 1.0 + np.sqrt( 2.0 * ( b - 1.0 ) )\n",
    "    alpha = np.sqrt( 2.0 / ( W2 - 1.0 ) )\n",
    "    z = 1.0 / np.sqrt( np.log( np.sqrt( W2 ) ) )\n",
    "    z *= np.log( Y / alpha + np.sqrt( ( Y / alpha )**2.0 + 1.0 ) )\n",
    "    return z\n",
    " \n",
    "def Z2(k, n):\n",
    "    E = 3.0 * ( n - 1.0 ) / ( n + 1.0 )\n",
    "    v = 24.0 * n * ( n - 2.0 )*( n - 3.0 )\n",
    "    v /= ( n + 1.0 )**2.0*( n + 3.0 )*( n + 5.0 )\n",
    "    X = ( k - E ) / np.sqrt( v )\n",
    "    b = ( 6.0 * ( n**2.0 - 5.0*n + 2.0 ) ) / ( ( n + 7.0 )*( n + 9.0 ) )\n",
    "    b *= np.sqrt( ( 6.0 * ( n + 3.0 )*( n + 5.0 ) ) / ( n * ( n - 2.0 )*( n - 3.0 ) ) )\n",
    "    A = 6.0 + ( 8.0 / b )*( 2.0 / b + np.sqrt( 1.0 + 4.0 / b**2.0 ) )\n",
    "    z = ( 1.0 - 2.0 / A ) / ( 1.0 + X * np.sqrt( 2.0 / ( A - 4.0 ) ) )\n",
    "    z = ( 1.0 - 2.0 / ( 9.0 * A ) ) - z**(1.0/3.0)\n",
    "    z /= np.sqrt( 2.0 / ( 9.0 * A ) )\n",
    "    return z\n",
    " \n",
    "K2 = Z1(S, N) ** 2 + Z2(K, N) ** 2\n",
    "K2"
   ]
  },
  {
   "cell_type": "markdown",
   "metadata": {},
   "source": [
    "K2 statistics has roughly $\\chi^{2}$ distribution with 2 degrees of freedom, so p-value can be calculated as:"
   ]
  },
  {
   "cell_type": "code",
   "execution_count": 19,
   "metadata": {},
   "outputs": [
    {
     "data": {
      "text/plain": [
       "0.28056521527106471"
      ]
     },
     "execution_count": 19,
     "metadata": {},
     "output_type": "execute_result"
    }
   ],
   "source": [
    "p_omnibus = 1 - stats.chi2(2).cdf(K2)\n",
    "p_omnibus"
   ]
  },
  {
   "cell_type": "markdown",
   "metadata": {},
   "source": [
    "### Durbin-Watson\n",
    "This is a test for autocorrelation by separating the residuals with some lag (eg. 1).\n",
    "\\begin{equation*} DW = \\dfrac{ \\displaystyle \\sum_{i=2}^{N} ( ( y_{i} - \\hat{y}_{i} ) - ( y_{i-1} - \\hat{y}_{i-1} ) )^{2} }{ \\displaystyle \\sum_{i=1}^{N} ( y_{i} - \\hat{y}_{i} )^{2} } \\end{equation*} \n",
    "\n",
    "DW = 2(1 - r) where r is the sample autocorrelation. The value ranges from 0 to 4. A value around 2 suggests no autocorrelation. A value greater than 2 suggests negative correlation. A value less than 1 suggests positive correlation."
   ]
  },
  {
   "cell_type": "code",
   "execution_count": 20,
   "metadata": {},
   "outputs": [
    {
     "data": {
      "text/plain": [
       "1.9753463429714684"
      ]
     },
     "execution_count": 20,
     "metadata": {},
     "output_type": "execute_result"
    }
   ],
   "source": [
    "DW = np.sum(np.diff(model_one.resid.values) ** 2) / model_one.ssr\n",
    "DW"
   ]
  },
  {
   "cell_type": "markdown",
   "metadata": {},
   "source": [
    "### Jarque-Bera Test\n",
    "H0 := S = 0; K = 3 (Normal)\n",
    "\n",
    "However, the small sample JB Test tends to reject H0 even if it is true.\n",
    "\\begin{equation*} JB = \\dfrac{N}{6} \\biggl( S^{2} + \\dfrac{1}{4}(K-3)^{2} \\biggr) \\end{equation*} "
   ]
  },
  {
   "cell_type": "code",
   "execution_count": 21,
   "metadata": {},
   "outputs": [
    {
     "data": {
      "text/plain": [
       "0.90420588941973845"
      ]
     },
     "execution_count": 21,
     "metadata": {},
     "output_type": "execute_result"
    }
   ],
   "source": [
    "JB = (N / 6) * ((S ** 2) + (1/4) * ((K - 3) ** 2))\n",
    "JB"
   ]
  },
  {
   "cell_type": "markdown",
   "metadata": {},
   "source": [
    "Calculating the probability using the $\\chi^{2}$ distribution with two degrees of freedom we have,"
   ]
  },
  {
   "cell_type": "code",
   "execution_count": 22,
   "metadata": {},
   "outputs": [
    {
     "data": {
      "text/plain": [
       "0.63628866380151261"
      ]
     },
     "execution_count": 22,
     "metadata": {},
     "output_type": "execute_result"
    }
   ],
   "source": [
    "p_JB = 1 - stats.chi2(2).cdf(JB)\n",
    "p_JB"
   ]
  },
  {
   "cell_type": "markdown",
   "metadata": {},
   "source": [
    "### Condition Number\n",
    "Square root of the ratio of the largest eigenvalue to the smallest eigenvalue. Condition number > 30 => multicolinearity"
   ]
  },
  {
   "cell_type": "code",
   "execution_count": 23,
   "metadata": {},
   "outputs": [
    {
     "data": {
      "text/plain": [
       "array([ 136.51527115,    0.18412885])"
      ]
     },
     "execution_count": 23,
     "metadata": {},
     "output_type": "execute_result"
    }
   ],
   "source": [
    "EV = np.linalg.eigvals(X.T * X)\n",
    "EV"
   ]
  },
  {
   "cell_type": "code",
   "execution_count": 24,
   "metadata": {},
   "outputs": [
    {
     "data": {
      "text/plain": [
       "27.228874902064931"
      ]
     },
     "execution_count": 24,
     "metadata": {},
     "output_type": "execute_result"
    }
   ],
   "source": [
    "CN = np.sqrt(EV.max() / EV.min())\n",
    "CN"
   ]
  }
 ],
 "metadata": {
  "kernelspec": {
   "display_name": "Python 3",
   "language": "python",
   "name": "python3"
  },
  "language_info": {
   "codemirror_mode": {
    "name": "ipython",
    "version": 3
   },
   "file_extension": ".py",
   "mimetype": "text/x-python",
   "name": "python",
   "nbconvert_exporter": "python",
   "pygments_lexer": "ipython3",
   "version": "3.6.1"
  }
 },
 "nbformat": 4,
 "nbformat_minor": 2
}
